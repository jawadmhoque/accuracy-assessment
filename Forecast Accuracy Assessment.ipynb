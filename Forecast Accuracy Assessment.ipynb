{
 "cells": [
  {
   "cell_type": "code",
   "execution_count": null,
   "metadata": {
    "collapsed": true
   },
   "outputs": [],
   "source": [
    "import pandas as pd #for working with dataframe\n",
    "import numpy as np\n",
    "from scipy import stats, integrate #will help in stats operation in histograms\n",
    "import matplotlib.pyplot as plt #to plot the PE\n",
    "import seaborn as sns #nice looking plots\n",
    "%matplotlib inline\n",
    "sns.set(color_codes=True)"
   ]
  }
 ],
 "metadata": {
  "kernelspec": {
   "display_name": "Python 3",
   "language": "python",
   "name": "python3"
  },
  "language_info": {
   "codemirror_mode": {
    "name": "ipython",
    "version": 3
   },
   "file_extension": ".py",
   "mimetype": "text/x-python",
   "name": "python",
   "nbconvert_exporter": "python",
   "pygments_lexer": "ipython3",
   "version": "3.6.3"
  }
 },
 "nbformat": 4,
 "nbformat_minor": 2
}
